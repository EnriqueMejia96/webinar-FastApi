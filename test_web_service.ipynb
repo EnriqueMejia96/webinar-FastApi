{
 "cells": [
  {
   "cell_type": "markdown",
   "metadata": {},
   "source": [
    "# 0. Create Iris Model"
   ]
  },
  {
   "cell_type": "code",
   "execution_count": 1,
   "metadata": {},
   "outputs": [
    {
     "data": {
      "text/plain": [
       "['iris_model.joblib']"
      ]
     },
     "execution_count": 1,
     "metadata": {},
     "output_type": "execute_result"
    }
   ],
   "source": [
    "# Importar las bibliotecas necesarias\n",
    "from sklearn import datasets, linear_model\n",
    "from sklearn.model_selection import train_test_split\n",
    "import joblib\n",
    "\n",
    "# Cargar el conjunto de datos Iris\n",
    "iris = datasets.load_iris()  # Cargar el conjunto de datos Iris\n",
    "X = iris.data  # Características (características de las flores)\n",
    "y = iris.target  # Etiquetas (clases de flores)\n",
    "\n",
    "# Dividir los datos en conjuntos de entrenamiento y prueba\n",
    "X_train, X_test, y_train, y_test = train_test_split(X, y, test_size=0.25)  # Dividir los datos en conjuntos de entrenamiento (75%) y prueba (25%)\n",
    "\n",
    "# Elegir un modelo multiclase\n",
    "model = linear_model.LogisticRegression(multi_class=\"multinomial\")  # Crear un modelo de regresión logística multinomial\n",
    "\n",
    "# Entrenar el modelo\n",
    "model.fit(X_train, y_train)  # Entrenar el modelo con los datos de entrenamiento\n",
    "\n",
    "# Guardar el modelo usando joblib\n",
    "joblib.dump(model, 'iris_model.joblib')  # Guardar el modelo entrenado en un archivo"
   ]
  },
  {
   "cell_type": "markdown",
   "metadata": {},
   "source": [
    "# 1. Solicitar predicción"
   ]
  },
  {
   "cell_type": "code",
   "execution_count": 7,
   "metadata": {},
   "outputs": [
    {
     "name": "stdout",
     "output_type": "stream",
     "text": [
      "Status code: 200\n",
      "Prediction: 0\n"
     ]
    }
   ],
   "source": [
    "import requests\n",
    "import json\n",
    "\n",
    "# Definir endpoint\n",
    "url = \"http://localhost:8000/predict\"\n",
    "\n",
    "# Definir los valores de las características de la flor iris\n",
    "data = {\n",
    "    \"sepal_length\": 5.1,\n",
    "    \"sepal_width\": 3.5,\n",
    "    \"petal_length\": 1.4,\n",
    "    \"petal_width\": 0.2\n",
    "}\n",
    "\n",
    "# Definir los headers\n",
    "headers = {\"Content-Type\": \"application/json\"}\n",
    "\n",
    "# Enviar solicitud POST al endpoint con los datos JSON y headers\n",
    "response = requests.post(url=url, data=json.dumps(data), headers=headers)\n",
    "\n",
    "# Obtener el código de estado de la respuesta\n",
    "status_code = response.status_code\n",
    "print(f\"Status code: {status_code}\")\n",
    "\n",
    "# Obtener el contenido de la respuesta\n",
    "if response.status_code == 200:\n",
    "    prediction = response.json().get(\"prediction\")\n",
    "    print(f\"Prediction: {prediction}\")\n",
    "else:\n",
    "    error_message = response.json().get(\"error\")\n",
    "    print(f\"Error: {error_message}\")\n"
   ]
  },
  {
   "cell_type": "code",
   "execution_count": 10,
   "metadata": {},
   "outputs": [
    {
     "data": {
      "text/plain": [
       "{'prediction': 0}"
      ]
     },
     "execution_count": 10,
     "metadata": {},
     "output_type": "execute_result"
    }
   ],
   "source": [
    "response.json()"
   ]
  },
  {
   "cell_type": "code",
   "execution_count": null,
   "metadata": {},
   "outputs": [],
   "source": []
  }
 ],
 "metadata": {
  "kernelspec": {
   "display_name": "Python 3",
   "language": "python",
   "name": "python3"
  },
  "language_info": {
   "codemirror_mode": {
    "name": "ipython",
    "version": 3
   },
   "file_extension": ".py",
   "mimetype": "text/x-python",
   "name": "python",
   "nbconvert_exporter": "python",
   "pygments_lexer": "ipython3",
   "version": "3.10.11"
  }
 },
 "nbformat": 4,
 "nbformat_minor": 2
}
